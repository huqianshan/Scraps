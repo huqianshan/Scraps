{
 "cells": [
  {
   "cell_type": "code",
   "execution_count": 10,
   "metadata": {},
   "outputs": [
    {
     "name": "stdout",
     "output_type": "stream",
     "text": [
      "success\n"
     ]
    }
   ],
   "source": [
    "import smtplib\n",
    "from email.mime.text import MIMEText\n",
    "#设置服务器所需信息\n",
    "  \n",
    "\n",
    "\n",
    "subject = \"test for python\"\n",
    "cont = \"this is fun\"\n",
    "message=write_message(subject,cont)\n",
    " \n",
    "send_message(message)"
   ]
  },
  {
   "cell_type": "code",
   "execution_count": 9,
   "metadata": {},
   "outputs": [],
   "source": [
    "def write_message(subject,content):\n",
    "    \"\"\"\n",
    "    string = subject + content\n",
    "    \"\"\"\n",
    "    #设置email信息\n",
    "    #邮件内容设置\n",
    "    message = MIMEText(content,'plain','utf-8')\n",
    "    #邮件主题       \n",
    "    message['Subject'] = subject \n",
    "    return message\n",
    "\n",
    "def send_message(message):\n",
    "    #登录并发送邮件\n",
    "    #163邮箱服务器地址\n",
    "    mail_host = 'smtp.163.com'\n",
    "    #163用户名\n",
    "    mail_user = 'huqianshan_uestc'  \n",
    "    #密码(部分邮箱为授权码) \n",
    "    mail_pass = 'easymail16'   \n",
    "    #邮件发送方邮箱地址\n",
    "    sender = 'huqianshan_uestc@163.com' \n",
    "    #邮件接受方邮箱地址，注意需要[]包裹，这意味着你可以写多个邮件地址群发\n",
    "    receivers = ['1196455147@qq.com']  \n",
    "    #发送方信息\n",
    "    message['From'] = sender \n",
    "    #接受方信息     \n",
    "    message['To'] = receivers[0] \n",
    "    try:\n",
    "        smtpObj = smtplib.SMTP() \n",
    "        #连接到服务器\n",
    "        smtpObj.connect(mail_host,25)\n",
    "        #登录到服务器\n",
    "        smtpObj.login(mail_user,mail_pass) \n",
    "        #发送\n",
    "        smtpObj.sendmail(\n",
    "            sender,receivers,message.as_string()) \n",
    "        #退出\n",
    "        smtpObj.quit() \n",
    "        print('success')\n",
    "    except smtplib.SMTPException as e:\n",
    "        print('error',e) #打印错误"
   ]
  },
  {
   "cell_type": "code",
   "execution_count": null,
   "metadata": {},
   "outputs": [],
   "source": []
  }
 ],
 "metadata": {
  "kernelspec": {
   "display_name": "Python 3",
   "language": "python",
   "name": "python3"
  },
  "language_info": {
   "codemirror_mode": {
    "name": "ipython",
    "version": 3
   },
   "file_extension": ".py",
   "mimetype": "text/x-python",
   "name": "python",
   "nbconvert_exporter": "python",
   "pygments_lexer": "ipython3",
   "version": "3.6.8"
  }
 },
 "nbformat": 4,
 "nbformat_minor": 2
}
